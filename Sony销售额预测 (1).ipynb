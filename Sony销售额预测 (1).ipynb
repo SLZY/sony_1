{
 "cells": [
  {
   "cell_type": "markdown",
   "id": "nutritional-microphone",
   "metadata": {},
   "source": [
    "## 项目背景\n",
    "索尼公司是源自日本的跨国综合企业，以研制电子产品为主要事业，经营领域横跨消费电子产品、专业性电子产品、电子游戏、金融、娱乐等，拥有全世界的品牌知名度。目前在国内，索尼的产品主要覆盖在照相机，摄像机，电视，和智能手机四个主要领域。\n",
    "My Sony俱乐部是索尼官方专为索尼会员设立的会员中心，分注册会员、铜牌会员、银牌会员、金牌会员四个等级，会员可根据会员等级享受不同的会员权益。同时，索尼还为尊敬的索尼会员提供了丰富的线上线下活动以及影像课堂等福利。\n",
    "My Sony会员，共分为注册会员、铜牌会员、银牌会员、金牌会员4个等级。会员的等级由\"成长值\"数值决定，成长值越高，会员等级越高。加入索尼会员可以享受会员尊享价，官方延保以及累积成长等多个激励。用户可以通过索尼中国在线商城，索尼产品，索尼app,微信等渠道注册。\n",
    "## 项目要求\n",
    "1，使用Python建立线性回归模型；\n",
    "2，预测用户的销售额；\n",
    "3，找到对用户购买行为影响较大的因素。\n",
    "## 项目流程\n",
    "数据分析流程：\n",
    "数据概况分析\n",
    "单变量分析\n",
    "相关和可视化分析\n",
    "线性回归模型的建立、评估、优化\n",
    "## 数据认识\n",
    "数据包含用户行为信息（交易的时间、店铺、店铺的城市、金额），用户的人口学信息（性别、年龄、结婚与否、是否有小孩等），用户的账号信息（注册渠道、注册时间、会员等级、会员价值等）；\n",
    "本项目选取用户的购买金额作为因变量；用户行为变量、人口学变量、账号变量作为自变量，建立回归模型。"
   ]
  },
  {
   "cell_type": "code",
   "execution_count": 414,
   "id": "appreciated-leave",
   "metadata": {},
   "outputs": [],
   "source": [
    "#导入数据和第三方库\n",
    "import pandas as pd\n",
    "import numpy as np\n",
    "import seaborn as sns\n",
    "import matplotlib.pyplot as plt\n",
    "%matplotlib inline\n",
    "from statsmodels.formula.api import ols\n",
    "from sklearn.linear_model import LinearRegression\n"
   ]
  },
  {
   "cell_type": "code",
   "execution_count": 415,
   "id": "brutal-curve",
   "metadata": {},
   "outputs": [],
   "source": [
    "data=pd.read_csv('C:/Users/GaoYi/jupyter-notebook/sony.csv')"
   ]
  },
  {
   "cell_type": "code",
   "execution_count": 416,
   "id": "wanted-thursday",
   "metadata": {
    "scrolled": true
   },
   "outputs": [
    {
     "data": {
      "text/html": [
       "<div>\n",
       "<style scoped>\n",
       "    .dataframe tbody tr th:only-of-type {\n",
       "        vertical-align: middle;\n",
       "    }\n",
       "\n",
       "    .dataframe tbody tr th {\n",
       "        vertical-align: top;\n",
       "    }\n",
       "\n",
       "    .dataframe thead th {\n",
       "        text-align: right;\n",
       "    }\n",
       "</style>\n",
       "<table border=\"1\" class=\"dataframe\">\n",
       "  <thead>\n",
       "    <tr style=\"text-align: right;\">\n",
       "      <th></th>\n",
       "      <th>member_id</th>\n",
       "      <th>transaction_date</th>\n",
       "      <th>amount</th>\n",
       "      <th>age</th>\n",
       "      <th>gender</th>\n",
       "      <th>city</th>\n",
       "      <th>registration_date</th>\n",
       "      <th>Member_level</th>\n",
       "      <th>Member_value</th>\n",
       "      <th>Marriage</th>\n",
       "      <th>Have_child</th>\n",
       "      <th>CHANNEL</th>\n",
       "    </tr>\n",
       "  </thead>\n",
       "  <tbody>\n",
       "    <tr>\n",
       "      <th>0</th>\n",
       "      <td>30132990738</td>\n",
       "      <td>3/1/2014</td>\n",
       "      <td>447</td>\n",
       "      <td>41.0</td>\n",
       "      <td>W</td>\n",
       "      <td>Nanjing</td>\n",
       "      <td>6/9/2016</td>\n",
       "      <td>Silver</td>\n",
       "      <td>246</td>\n",
       "      <td>Y</td>\n",
       "      <td>Y</td>\n",
       "      <td>APP</td>\n",
       "    </tr>\n",
       "    <tr>\n",
       "      <th>1</th>\n",
       "      <td>30388108493</td>\n",
       "      <td>3/1/2014</td>\n",
       "      <td>1730</td>\n",
       "      <td>41.0</td>\n",
       "      <td>W</td>\n",
       "      <td>Nanjing</td>\n",
       "      <td>6/9/2016</td>\n",
       "      <td>Silver</td>\n",
       "      <td>246</td>\n",
       "      <td>Y</td>\n",
       "      <td>Y</td>\n",
       "      <td>APP</td>\n",
       "    </tr>\n",
       "    <tr>\n",
       "      <th>2</th>\n",
       "      <td>30275342052</td>\n",
       "      <td>3/1/2014</td>\n",
       "      <td>12999</td>\n",
       "      <td>NaN</td>\n",
       "      <td>W</td>\n",
       "      <td>Shanghai</td>\n",
       "      <td>7/9/2016</td>\n",
       "      <td>Silver</td>\n",
       "      <td>224</td>\n",
       "      <td>N</td>\n",
       "      <td>N</td>\n",
       "      <td>ONLINE</td>\n",
       "    </tr>\n",
       "    <tr>\n",
       "      <th>3</th>\n",
       "      <td>30176024140</td>\n",
       "      <td>2/1/2014</td>\n",
       "      <td>23997</td>\n",
       "      <td>22.0</td>\n",
       "      <td>M</td>\n",
       "      <td>Wuhan</td>\n",
       "      <td>12/8/2014</td>\n",
       "      <td>Register</td>\n",
       "      <td>46</td>\n",
       "      <td>N</td>\n",
       "      <td>N</td>\n",
       "      <td>ONLINE</td>\n",
       "    </tr>\n",
       "    <tr>\n",
       "      <th>4</th>\n",
       "      <td>30176024140</td>\n",
       "      <td>2/1/2014</td>\n",
       "      <td>10799</td>\n",
       "      <td>22.0</td>\n",
       "      <td>M</td>\n",
       "      <td>Wuhan</td>\n",
       "      <td>12/8/2014</td>\n",
       "      <td>Register</td>\n",
       "      <td>46</td>\n",
       "      <td>N</td>\n",
       "      <td>N</td>\n",
       "      <td>ONLINE</td>\n",
       "    </tr>\n",
       "    <tr>\n",
       "      <th>...</th>\n",
       "      <td>...</td>\n",
       "      <td>...</td>\n",
       "      <td>...</td>\n",
       "      <td>...</td>\n",
       "      <td>...</td>\n",
       "      <td>...</td>\n",
       "      <td>...</td>\n",
       "      <td>...</td>\n",
       "      <td>...</td>\n",
       "      <td>...</td>\n",
       "      <td>...</td>\n",
       "      <td>...</td>\n",
       "    </tr>\n",
       "    <tr>\n",
       "      <th>22371</th>\n",
       "      <td>50643175008</td>\n",
       "      <td>5/4/2019</td>\n",
       "      <td>14398</td>\n",
       "      <td>42.0</td>\n",
       "      <td>M</td>\n",
       "      <td>Wuhan</td>\n",
       "      <td>28/3/2015</td>\n",
       "      <td>Gold</td>\n",
       "      <td>271</td>\n",
       "      <td>Y</td>\n",
       "      <td>Y</td>\n",
       "      <td>ONLINE</td>\n",
       "    </tr>\n",
       "    <tr>\n",
       "      <th>22372</th>\n",
       "      <td>50760028833</td>\n",
       "      <td>5/4/2019</td>\n",
       "      <td>20394</td>\n",
       "      <td>41.0</td>\n",
       "      <td>W</td>\n",
       "      <td>Beijing</td>\n",
       "      <td>22/12/2015</td>\n",
       "      <td>Bronze</td>\n",
       "      <td>84</td>\n",
       "      <td>Y</td>\n",
       "      <td>Y</td>\n",
       "      <td>ONLINE</td>\n",
       "    </tr>\n",
       "    <tr>\n",
       "      <th>22373</th>\n",
       "      <td>50760028833</td>\n",
       "      <td>5/4/2019</td>\n",
       "      <td>25191</td>\n",
       "      <td>41.0</td>\n",
       "      <td>W</td>\n",
       "      <td>Beijing</td>\n",
       "      <td>22/12/2015</td>\n",
       "      <td>Bronze</td>\n",
       "      <td>84</td>\n",
       "      <td>Y</td>\n",
       "      <td>Y</td>\n",
       "      <td>ONLINE</td>\n",
       "    </tr>\n",
       "    <tr>\n",
       "      <th>22374</th>\n",
       "      <td>50113016960</td>\n",
       "      <td>5/4/2019</td>\n",
       "      <td>13794</td>\n",
       "      <td>44.0</td>\n",
       "      <td>M</td>\n",
       "      <td>Chendu</td>\n",
       "      <td>14/8/2014</td>\n",
       "      <td>Silver</td>\n",
       "      <td>151</td>\n",
       "      <td>Y</td>\n",
       "      <td>Y</td>\n",
       "      <td>ONLINE</td>\n",
       "    </tr>\n",
       "    <tr>\n",
       "      <th>22375</th>\n",
       "      <td>50116954288</td>\n",
       "      <td>5/4/2019</td>\n",
       "      <td>12980</td>\n",
       "      <td>45.0</td>\n",
       "      <td>W</td>\n",
       "      <td>Beijing</td>\n",
       "      <td>20/10/2015</td>\n",
       "      <td>Silver</td>\n",
       "      <td>183</td>\n",
       "      <td>Y</td>\n",
       "      <td>Y</td>\n",
       "      <td>APP</td>\n",
       "    </tr>\n",
       "  </tbody>\n",
       "</table>\n",
       "<p>22376 rows × 12 columns</p>\n",
       "</div>"
      ],
      "text/plain": [
       "         member_id transaction_date  amount   age gender      city  \\\n",
       "0      30132990738         3/1/2014     447  41.0      W   Nanjing   \n",
       "1      30388108493         3/1/2014    1730  41.0      W   Nanjing   \n",
       "2      30275342052         3/1/2014   12999   NaN      W  Shanghai   \n",
       "3      30176024140         2/1/2014   23997  22.0      M     Wuhan   \n",
       "4      30176024140         2/1/2014   10799  22.0      M     Wuhan   \n",
       "...            ...              ...     ...   ...    ...       ...   \n",
       "22371  50643175008         5/4/2019   14398  42.0      M     Wuhan   \n",
       "22372  50760028833         5/4/2019   20394  41.0      W   Beijing   \n",
       "22373  50760028833         5/4/2019   25191  41.0      W   Beijing   \n",
       "22374  50113016960         5/4/2019   13794  44.0      M    Chendu   \n",
       "22375  50116954288         5/4/2019   12980  45.0      W   Beijing   \n",
       "\n",
       "      registration_date Member_level  Member_value Marriage Have_child CHANNEL  \n",
       "0              6/9/2016       Silver           246        Y          Y     APP  \n",
       "1              6/9/2016       Silver           246        Y          Y     APP  \n",
       "2              7/9/2016       Silver           224        N          N  ONLINE  \n",
       "3             12/8/2014     Register            46        N          N  ONLINE  \n",
       "4             12/8/2014     Register            46        N          N  ONLINE  \n",
       "...                 ...          ...           ...      ...        ...     ...  \n",
       "22371         28/3/2015         Gold           271        Y          Y  ONLINE  \n",
       "22372        22/12/2015       Bronze            84        Y          Y  ONLINE  \n",
       "22373        22/12/2015       Bronze            84        Y          Y  ONLINE  \n",
       "22374         14/8/2014       Silver           151        Y          Y  ONLINE  \n",
       "22375        20/10/2015       Silver           183        Y          Y     APP  \n",
       "\n",
       "[22376 rows x 12 columns]"
      ]
     },
     "execution_count": 416,
     "metadata": {},
     "output_type": "execute_result"
    }
   ],
   "source": [
    "data"
   ]
  },
  {
   "cell_type": "code",
   "execution_count": 417,
   "id": "african-yemen",
   "metadata": {},
   "outputs": [
    {
     "data": {
      "text/html": [
       "<div>\n",
       "<style scoped>\n",
       "    .dataframe tbody tr th:only-of-type {\n",
       "        vertical-align: middle;\n",
       "    }\n",
       "\n",
       "    .dataframe tbody tr th {\n",
       "        vertical-align: top;\n",
       "    }\n",
       "\n",
       "    .dataframe thead th {\n",
       "        text-align: right;\n",
       "    }\n",
       "</style>\n",
       "<table border=\"1\" class=\"dataframe\">\n",
       "  <thead>\n",
       "    <tr style=\"text-align: right;\">\n",
       "      <th></th>\n",
       "      <th>member_id</th>\n",
       "      <th>transaction_date</th>\n",
       "      <th>amount</th>\n",
       "      <th>age</th>\n",
       "      <th>gender</th>\n",
       "      <th>city</th>\n",
       "      <th>registration_date</th>\n",
       "      <th>Member_level</th>\n",
       "      <th>Member_value</th>\n",
       "      <th>Marriage</th>\n",
       "      <th>Have_child</th>\n",
       "      <th>CHANNEL</th>\n",
       "    </tr>\n",
       "  </thead>\n",
       "  <tbody>\n",
       "    <tr>\n",
       "      <th>0</th>\n",
       "      <td>30132990738</td>\n",
       "      <td>3/1/2014</td>\n",
       "      <td>447</td>\n",
       "      <td>41.0</td>\n",
       "      <td>W</td>\n",
       "      <td>Nanjing</td>\n",
       "      <td>6/9/2016</td>\n",
       "      <td>Silver</td>\n",
       "      <td>246</td>\n",
       "      <td>Y</td>\n",
       "      <td>Y</td>\n",
       "      <td>APP</td>\n",
       "    </tr>\n",
       "    <tr>\n",
       "      <th>1</th>\n",
       "      <td>30388108493</td>\n",
       "      <td>3/1/2014</td>\n",
       "      <td>1730</td>\n",
       "      <td>41.0</td>\n",
       "      <td>W</td>\n",
       "      <td>Nanjing</td>\n",
       "      <td>6/9/2016</td>\n",
       "      <td>Silver</td>\n",
       "      <td>246</td>\n",
       "      <td>Y</td>\n",
       "      <td>Y</td>\n",
       "      <td>APP</td>\n",
       "    </tr>\n",
       "    <tr>\n",
       "      <th>2</th>\n",
       "      <td>30275342052</td>\n",
       "      <td>3/1/2014</td>\n",
       "      <td>12999</td>\n",
       "      <td>NaN</td>\n",
       "      <td>W</td>\n",
       "      <td>Shanghai</td>\n",
       "      <td>7/9/2016</td>\n",
       "      <td>Silver</td>\n",
       "      <td>224</td>\n",
       "      <td>N</td>\n",
       "      <td>N</td>\n",
       "      <td>ONLINE</td>\n",
       "    </tr>\n",
       "    <tr>\n",
       "      <th>3</th>\n",
       "      <td>30176024140</td>\n",
       "      <td>2/1/2014</td>\n",
       "      <td>23997</td>\n",
       "      <td>22.0</td>\n",
       "      <td>M</td>\n",
       "      <td>Wuhan</td>\n",
       "      <td>12/8/2014</td>\n",
       "      <td>Register</td>\n",
       "      <td>46</td>\n",
       "      <td>N</td>\n",
       "      <td>N</td>\n",
       "      <td>ONLINE</td>\n",
       "    </tr>\n",
       "    <tr>\n",
       "      <th>4</th>\n",
       "      <td>30176024140</td>\n",
       "      <td>2/1/2014</td>\n",
       "      <td>10799</td>\n",
       "      <td>22.0</td>\n",
       "      <td>M</td>\n",
       "      <td>Wuhan</td>\n",
       "      <td>12/8/2014</td>\n",
       "      <td>Register</td>\n",
       "      <td>46</td>\n",
       "      <td>N</td>\n",
       "      <td>N</td>\n",
       "      <td>ONLINE</td>\n",
       "    </tr>\n",
       "  </tbody>\n",
       "</table>\n",
       "</div>"
      ],
      "text/plain": [
       "     member_id transaction_date  amount   age gender      city  \\\n",
       "0  30132990738         3/1/2014     447  41.0      W   Nanjing   \n",
       "1  30388108493         3/1/2014    1730  41.0      W   Nanjing   \n",
       "2  30275342052         3/1/2014   12999   NaN      W  Shanghai   \n",
       "3  30176024140         2/1/2014   23997  22.0      M     Wuhan   \n",
       "4  30176024140         2/1/2014   10799  22.0      M     Wuhan   \n",
       "\n",
       "  registration_date Member_level  Member_value Marriage Have_child CHANNEL  \n",
       "0          6/9/2016       Silver           246        Y          Y     APP  \n",
       "1          6/9/2016       Silver           246        Y          Y     APP  \n",
       "2          7/9/2016       Silver           224        N          N  ONLINE  \n",
       "3         12/8/2014     Register            46        N          N  ONLINE  \n",
       "4         12/8/2014     Register            46        N          N  ONLINE  "
      ]
     },
     "execution_count": 417,
     "metadata": {},
     "output_type": "execute_result"
    }
   ],
   "source": [
    "data.head()"
   ]
  },
  {
   "cell_type": "code",
   "execution_count": 418,
   "id": "central-karaoke",
   "metadata": {},
   "outputs": [
    {
     "data": {
      "text/plain": [
       "member_id               0\n",
       "transaction_date        0\n",
       "amount                  0\n",
       "age                   503\n",
       "gender                  0\n",
       "city                 3084\n",
       "registration_date       0\n",
       "Member_level            0\n",
       "Member_value            0\n",
       "Marriage                0\n",
       "Have_child              0\n",
       "CHANNEL                 0\n",
       "dtype: int64"
      ]
     },
     "execution_count": 418,
     "metadata": {},
     "output_type": "execute_result"
    }
   ],
   "source": [
    "data.isnull().sum()\n",
    "# age的空值用中位数填充\n",
    "# gender的空值转变为哑变量"
   ]
  },
  {
   "cell_type": "code",
   "execution_count": 448,
   "id": "automated-antenna",
   "metadata": {
    "scrolled": true
   },
   "outputs": [
    {
     "data": {
      "text/html": [
       "<div>\n",
       "<style scoped>\n",
       "    .dataframe tbody tr th:only-of-type {\n",
       "        vertical-align: middle;\n",
       "    }\n",
       "\n",
       "    .dataframe tbody tr th {\n",
       "        vertical-align: top;\n",
       "    }\n",
       "\n",
       "    .dataframe thead th {\n",
       "        text-align: right;\n",
       "    }\n",
       "</style>\n",
       "<table border=\"1\" class=\"dataframe\">\n",
       "  <thead>\n",
       "    <tr style=\"text-align: right;\">\n",
       "      <th></th>\n",
       "      <th>amount</th>\n",
       "      <th>age</th>\n",
       "      <th>gender</th>\n",
       "      <th>Member_value</th>\n",
       "    </tr>\n",
       "  </thead>\n",
       "  <tbody>\n",
       "    <tr>\n",
       "      <th>count</th>\n",
       "      <td>22376.000000</td>\n",
       "      <td>22376.000000</td>\n",
       "      <td>22376.000000</td>\n",
       "      <td>22376.000000</td>\n",
       "    </tr>\n",
       "    <tr>\n",
       "      <th>mean</th>\n",
       "      <td>27250.442528</td>\n",
       "      <td>29.841795</td>\n",
       "      <td>0.618654</td>\n",
       "      <td>163.826064</td>\n",
       "    </tr>\n",
       "    <tr>\n",
       "      <th>std</th>\n",
       "      <td>70511.931648</td>\n",
       "      <td>8.115198</td>\n",
       "      <td>0.485728</td>\n",
       "      <td>79.119416</td>\n",
       "    </tr>\n",
       "    <tr>\n",
       "      <th>min</th>\n",
       "      <td>149.000000</td>\n",
       "      <td>18.000000</td>\n",
       "      <td>0.000000</td>\n",
       "      <td>10.000000</td>\n",
       "    </tr>\n",
       "    <tr>\n",
       "      <th>25%</th>\n",
       "      <td>8999.000000</td>\n",
       "      <td>23.000000</td>\n",
       "      <td>0.000000</td>\n",
       "      <td>99.000000</td>\n",
       "    </tr>\n",
       "    <tr>\n",
       "      <th>50%</th>\n",
       "      <td>14360.000000</td>\n",
       "      <td>28.000000</td>\n",
       "      <td>1.000000</td>\n",
       "      <td>165.000000</td>\n",
       "    </tr>\n",
       "    <tr>\n",
       "      <th>75%</th>\n",
       "      <td>19999.000000</td>\n",
       "      <td>37.000000</td>\n",
       "      <td>1.000000</td>\n",
       "      <td>231.000000</td>\n",
       "    </tr>\n",
       "    <tr>\n",
       "      <th>max</th>\n",
       "      <td>529999.000000</td>\n",
       "      <td>45.000000</td>\n",
       "      <td>1.000000</td>\n",
       "      <td>300.000000</td>\n",
       "    </tr>\n",
       "  </tbody>\n",
       "</table>\n",
       "</div>"
      ],
      "text/plain": [
       "              amount           age        gender  Member_value\n",
       "count   22376.000000  22376.000000  22376.000000  22376.000000\n",
       "mean    27250.442528     29.841795      0.618654    163.826064\n",
       "std     70511.931648      8.115198      0.485728     79.119416\n",
       "min       149.000000     18.000000      0.000000     10.000000\n",
       "25%      8999.000000     23.000000      0.000000     99.000000\n",
       "50%     14360.000000     28.000000      1.000000    165.000000\n",
       "75%     19999.000000     37.000000      1.000000    231.000000\n",
       "max    529999.000000     45.000000      1.000000    300.000000"
      ]
     },
     "execution_count": 448,
     "metadata": {},
     "output_type": "execute_result"
    }
   ],
   "source": [
    "data.describe()"
   ]
  },
  {
   "cell_type": "code",
   "execution_count": 449,
   "id": "requested-victor",
   "metadata": {
    "scrolled": false
   },
   "outputs": [
    {
     "name": "stdout",
     "output_type": "stream",
     "text": [
      "<class 'pandas.core.frame.DataFrame'>\n",
      "Int64Index: 22376 entries, 30132990738 to 50116954288\n",
      "Data columns (total 11 columns):\n",
      " #   Column             Non-Null Count  Dtype  \n",
      "---  ------             --------------  -----  \n",
      " 0   transaction_date   22376 non-null  object \n",
      " 1   amount             22376 non-null  int64  \n",
      " 2   age                22376 non-null  float64\n",
      " 3   gender             22376 non-null  int64  \n",
      " 4   city               22376 non-null  object \n",
      " 5   registration_date  22376 non-null  object \n",
      " 6   Member_level       22376 non-null  object \n",
      " 7   Member_value       22376 non-null  int64  \n",
      " 8   Marriage           22376 non-null  object \n",
      " 9   Have_child         22376 non-null  object \n",
      " 10  CHANNEL            22376 non-null  object \n",
      "dtypes: float64(1), int64(3), object(7)\n",
      "memory usage: 2.7+ MB\n"
     ]
    }
   ],
   "source": [
    "data.info()\n",
    "# 类别变量有点多，看能不能转成数值型变量"
   ]
  },
  {
   "cell_type": "code",
   "execution_count": 450,
   "id": "approximate-concern",
   "metadata": {},
   "outputs": [],
   "source": [
    "#将age的缺失值用中位数进行填充\n",
    "data['age']=data['age'].fillna(data['age'].median())\n",
    "#将city的缺失值填充成哑变量，类似于空值\n",
    "data['city']=data['city'].fillna('Unknown')\n",
    "data['gender']=data['gender'].fillna('Unknown')"
   ]
  },
  {
   "cell_type": "code",
   "execution_count": 451,
   "id": "textile-alabama",
   "metadata": {},
   "outputs": [
    {
     "ename": "KeyError",
     "evalue": "\"None of ['member_id'] are in the columns\"",
     "output_type": "error",
     "traceback": [
      "\u001b[1;31m---------------------------------------------------------------------------\u001b[0m",
      "\u001b[1;31mKeyError\u001b[0m                                  Traceback (most recent call last)",
      "\u001b[1;32m<ipython-input-451-37eb1b566560>\u001b[0m in \u001b[0;36m<module>\u001b[1;34m()\u001b[0m\n\u001b[1;32m----> 1\u001b[1;33m \u001b[0mdata\u001b[0m\u001b[1;33m=\u001b[0m \u001b[0mdata\u001b[0m\u001b[1;33m.\u001b[0m\u001b[0mset_index\u001b[0m\u001b[1;33m(\u001b[0m\u001b[1;34m'member_id'\u001b[0m\u001b[1;33m)\u001b[0m\u001b[1;33m\u001b[0m\u001b[1;33m\u001b[0m\u001b[0m\n\u001b[0m",
      "\u001b[1;32m~\\anaconda\\envs\\sony\\lib\\site-packages\\pandas\\core\\frame.py\u001b[0m in \u001b[0;36mset_index\u001b[1;34m(self, keys, drop, append, inplace, verify_integrity)\u001b[0m\n\u001b[0;32m   4549\u001b[0m \u001b[1;33m\u001b[0m\u001b[0m\n\u001b[0;32m   4550\u001b[0m         \u001b[1;32mif\u001b[0m \u001b[0mmissing\u001b[0m\u001b[1;33m:\u001b[0m\u001b[1;33m\u001b[0m\u001b[1;33m\u001b[0m\u001b[0m\n\u001b[1;32m-> 4551\u001b[1;33m             \u001b[1;32mraise\u001b[0m \u001b[0mKeyError\u001b[0m\u001b[1;33m(\u001b[0m\u001b[1;34mf\"None of {missing} are in the columns\"\u001b[0m\u001b[1;33m)\u001b[0m\u001b[1;33m\u001b[0m\u001b[1;33m\u001b[0m\u001b[0m\n\u001b[0m\u001b[0;32m   4552\u001b[0m \u001b[1;33m\u001b[0m\u001b[0m\n\u001b[0;32m   4553\u001b[0m         \u001b[1;32mif\u001b[0m \u001b[0minplace\u001b[0m\u001b[1;33m:\u001b[0m\u001b[1;33m\u001b[0m\u001b[1;33m\u001b[0m\u001b[0m\n",
      "\u001b[1;31mKeyError\u001b[0m: \"None of ['member_id'] are in the columns\""
     ]
    }
   ],
   "source": [
    "data= data.set_index('member_id')"
   ]
  },
  {
   "cell_type": "code",
   "execution_count": 453,
   "id": "electoral-aquarium",
   "metadata": {},
   "outputs": [
    {
     "data": {
      "text/html": [
       "<div>\n",
       "<style scoped>\n",
       "    .dataframe tbody tr th:only-of-type {\n",
       "        vertical-align: middle;\n",
       "    }\n",
       "\n",
       "    .dataframe tbody tr th {\n",
       "        vertical-align: top;\n",
       "    }\n",
       "\n",
       "    .dataframe thead th {\n",
       "        text-align: right;\n",
       "    }\n",
       "</style>\n",
       "<table border=\"1\" class=\"dataframe\">\n",
       "  <thead>\n",
       "    <tr style=\"text-align: right;\">\n",
       "      <th></th>\n",
       "      <th>amount</th>\n",
       "      <th>age</th>\n",
       "      <th>gender</th>\n",
       "      <th>Member_value</th>\n",
       "      <th>CHANNEL</th>\n",
       "      <th>transaction_date_1/10/2014</th>\n",
       "      <th>transaction_date_1/10/2015</th>\n",
       "      <th>transaction_date_1/10/2016</th>\n",
       "      <th>transaction_date_1/10/2017</th>\n",
       "      <th>transaction_date_1/10/2018</th>\n",
       "      <th>...</th>\n",
       "      <th>registration_date_9/8/2018</th>\n",
       "      <th>registration_date_9/9/2014</th>\n",
       "      <th>registration_date_9/9/2015</th>\n",
       "      <th>registration_date_9/9/2016</th>\n",
       "      <th>registration_date_9/9/2017</th>\n",
       "      <th>Member_level_Gold</th>\n",
       "      <th>Member_level_Register</th>\n",
       "      <th>Member_level_Silver</th>\n",
       "      <th>Marriage_Y</th>\n",
       "      <th>Have_child_Y</th>\n",
       "    </tr>\n",
       "    <tr>\n",
       "      <th>member_id</th>\n",
       "      <th></th>\n",
       "      <th></th>\n",
       "      <th></th>\n",
       "      <th></th>\n",
       "      <th></th>\n",
       "      <th></th>\n",
       "      <th></th>\n",
       "      <th></th>\n",
       "      <th></th>\n",
       "      <th></th>\n",
       "      <th></th>\n",
       "      <th></th>\n",
       "      <th></th>\n",
       "      <th></th>\n",
       "      <th></th>\n",
       "      <th></th>\n",
       "      <th></th>\n",
       "      <th></th>\n",
       "      <th></th>\n",
       "      <th></th>\n",
       "      <th></th>\n",
       "    </tr>\n",
       "  </thead>\n",
       "  <tbody>\n",
       "    <tr>\n",
       "      <th>30132990738</th>\n",
       "      <td>447</td>\n",
       "      <td>41.0</td>\n",
       "      <td>1</td>\n",
       "      <td>246</td>\n",
       "      <td>0</td>\n",
       "      <td>0</td>\n",
       "      <td>0</td>\n",
       "      <td>0</td>\n",
       "      <td>0</td>\n",
       "      <td>0</td>\n",
       "      <td>...</td>\n",
       "      <td>0</td>\n",
       "      <td>0</td>\n",
       "      <td>0</td>\n",
       "      <td>0</td>\n",
       "      <td>0</td>\n",
       "      <td>0</td>\n",
       "      <td>0</td>\n",
       "      <td>1</td>\n",
       "      <td>1</td>\n",
       "      <td>1</td>\n",
       "    </tr>\n",
       "    <tr>\n",
       "      <th>30388108493</th>\n",
       "      <td>1730</td>\n",
       "      <td>41.0</td>\n",
       "      <td>1</td>\n",
       "      <td>246</td>\n",
       "      <td>0</td>\n",
       "      <td>0</td>\n",
       "      <td>0</td>\n",
       "      <td>0</td>\n",
       "      <td>0</td>\n",
       "      <td>0</td>\n",
       "      <td>...</td>\n",
       "      <td>0</td>\n",
       "      <td>0</td>\n",
       "      <td>0</td>\n",
       "      <td>0</td>\n",
       "      <td>0</td>\n",
       "      <td>0</td>\n",
       "      <td>0</td>\n",
       "      <td>1</td>\n",
       "      <td>1</td>\n",
       "      <td>1</td>\n",
       "    </tr>\n",
       "    <tr>\n",
       "      <th>30275342052</th>\n",
       "      <td>12999</td>\n",
       "      <td>28.0</td>\n",
       "      <td>1</td>\n",
       "      <td>224</td>\n",
       "      <td>1</td>\n",
       "      <td>0</td>\n",
       "      <td>0</td>\n",
       "      <td>0</td>\n",
       "      <td>0</td>\n",
       "      <td>0</td>\n",
       "      <td>...</td>\n",
       "      <td>0</td>\n",
       "      <td>0</td>\n",
       "      <td>0</td>\n",
       "      <td>0</td>\n",
       "      <td>0</td>\n",
       "      <td>0</td>\n",
       "      <td>0</td>\n",
       "      <td>1</td>\n",
       "      <td>0</td>\n",
       "      <td>0</td>\n",
       "    </tr>\n",
       "    <tr>\n",
       "      <th>30176024140</th>\n",
       "      <td>23997</td>\n",
       "      <td>22.0</td>\n",
       "      <td>0</td>\n",
       "      <td>46</td>\n",
       "      <td>1</td>\n",
       "      <td>0</td>\n",
       "      <td>0</td>\n",
       "      <td>0</td>\n",
       "      <td>0</td>\n",
       "      <td>0</td>\n",
       "      <td>...</td>\n",
       "      <td>0</td>\n",
       "      <td>0</td>\n",
       "      <td>0</td>\n",
       "      <td>0</td>\n",
       "      <td>0</td>\n",
       "      <td>0</td>\n",
       "      <td>1</td>\n",
       "      <td>0</td>\n",
       "      <td>0</td>\n",
       "      <td>0</td>\n",
       "    </tr>\n",
       "    <tr>\n",
       "      <th>30176024140</th>\n",
       "      <td>10799</td>\n",
       "      <td>22.0</td>\n",
       "      <td>0</td>\n",
       "      <td>46</td>\n",
       "      <td>1</td>\n",
       "      <td>0</td>\n",
       "      <td>0</td>\n",
       "      <td>0</td>\n",
       "      <td>0</td>\n",
       "      <td>0</td>\n",
       "      <td>...</td>\n",
       "      <td>0</td>\n",
       "      <td>0</td>\n",
       "      <td>0</td>\n",
       "      <td>0</td>\n",
       "      <td>0</td>\n",
       "      <td>0</td>\n",
       "      <td>1</td>\n",
       "      <td>0</td>\n",
       "      <td>0</td>\n",
       "      <td>0</td>\n",
       "    </tr>\n",
       "    <tr>\n",
       "      <th>...</th>\n",
       "      <td>...</td>\n",
       "      <td>...</td>\n",
       "      <td>...</td>\n",
       "      <td>...</td>\n",
       "      <td>...</td>\n",
       "      <td>...</td>\n",
       "      <td>...</td>\n",
       "      <td>...</td>\n",
       "      <td>...</td>\n",
       "      <td>...</td>\n",
       "      <td>...</td>\n",
       "      <td>...</td>\n",
       "      <td>...</td>\n",
       "      <td>...</td>\n",
       "      <td>...</td>\n",
       "      <td>...</td>\n",
       "      <td>...</td>\n",
       "      <td>...</td>\n",
       "      <td>...</td>\n",
       "      <td>...</td>\n",
       "      <td>...</td>\n",
       "    </tr>\n",
       "    <tr>\n",
       "      <th>50643175008</th>\n",
       "      <td>14398</td>\n",
       "      <td>42.0</td>\n",
       "      <td>0</td>\n",
       "      <td>271</td>\n",
       "      <td>1</td>\n",
       "      <td>0</td>\n",
       "      <td>0</td>\n",
       "      <td>0</td>\n",
       "      <td>0</td>\n",
       "      <td>0</td>\n",
       "      <td>...</td>\n",
       "      <td>0</td>\n",
       "      <td>0</td>\n",
       "      <td>0</td>\n",
       "      <td>0</td>\n",
       "      <td>0</td>\n",
       "      <td>1</td>\n",
       "      <td>0</td>\n",
       "      <td>0</td>\n",
       "      <td>1</td>\n",
       "      <td>1</td>\n",
       "    </tr>\n",
       "    <tr>\n",
       "      <th>50760028833</th>\n",
       "      <td>20394</td>\n",
       "      <td>41.0</td>\n",
       "      <td>1</td>\n",
       "      <td>84</td>\n",
       "      <td>1</td>\n",
       "      <td>0</td>\n",
       "      <td>0</td>\n",
       "      <td>0</td>\n",
       "      <td>0</td>\n",
       "      <td>0</td>\n",
       "      <td>...</td>\n",
       "      <td>0</td>\n",
       "      <td>0</td>\n",
       "      <td>0</td>\n",
       "      <td>0</td>\n",
       "      <td>0</td>\n",
       "      <td>0</td>\n",
       "      <td>0</td>\n",
       "      <td>0</td>\n",
       "      <td>1</td>\n",
       "      <td>1</td>\n",
       "    </tr>\n",
       "    <tr>\n",
       "      <th>50760028833</th>\n",
       "      <td>25191</td>\n",
       "      <td>41.0</td>\n",
       "      <td>1</td>\n",
       "      <td>84</td>\n",
       "      <td>1</td>\n",
       "      <td>0</td>\n",
       "      <td>0</td>\n",
       "      <td>0</td>\n",
       "      <td>0</td>\n",
       "      <td>0</td>\n",
       "      <td>...</td>\n",
       "      <td>0</td>\n",
       "      <td>0</td>\n",
       "      <td>0</td>\n",
       "      <td>0</td>\n",
       "      <td>0</td>\n",
       "      <td>0</td>\n",
       "      <td>0</td>\n",
       "      <td>0</td>\n",
       "      <td>1</td>\n",
       "      <td>1</td>\n",
       "    </tr>\n",
       "    <tr>\n",
       "      <th>50113016960</th>\n",
       "      <td>13794</td>\n",
       "      <td>44.0</td>\n",
       "      <td>0</td>\n",
       "      <td>151</td>\n",
       "      <td>1</td>\n",
       "      <td>0</td>\n",
       "      <td>0</td>\n",
       "      <td>0</td>\n",
       "      <td>0</td>\n",
       "      <td>0</td>\n",
       "      <td>...</td>\n",
       "      <td>0</td>\n",
       "      <td>0</td>\n",
       "      <td>0</td>\n",
       "      <td>0</td>\n",
       "      <td>0</td>\n",
       "      <td>0</td>\n",
       "      <td>0</td>\n",
       "      <td>1</td>\n",
       "      <td>1</td>\n",
       "      <td>1</td>\n",
       "    </tr>\n",
       "    <tr>\n",
       "      <th>50116954288</th>\n",
       "      <td>12980</td>\n",
       "      <td>45.0</td>\n",
       "      <td>1</td>\n",
       "      <td>183</td>\n",
       "      <td>0</td>\n",
       "      <td>0</td>\n",
       "      <td>0</td>\n",
       "      <td>0</td>\n",
       "      <td>0</td>\n",
       "      <td>0</td>\n",
       "      <td>...</td>\n",
       "      <td>0</td>\n",
       "      <td>0</td>\n",
       "      <td>0</td>\n",
       "      <td>0</td>\n",
       "      <td>0</td>\n",
       "      <td>0</td>\n",
       "      <td>0</td>\n",
       "      <td>1</td>\n",
       "      <td>1</td>\n",
       "      <td>1</td>\n",
       "    </tr>\n",
       "  </tbody>\n",
       "</table>\n",
       "<p>22376 rows × 3353 columns</p>\n",
       "</div>"
      ],
      "text/plain": [
       "             amount   age  gender  Member_value  CHANNEL  \\\n",
       "member_id                                                  \n",
       "30132990738     447  41.0       1           246        0   \n",
       "30388108493    1730  41.0       1           246        0   \n",
       "30275342052   12999  28.0       1           224        1   \n",
       "30176024140   23997  22.0       0            46        1   \n",
       "30176024140   10799  22.0       0            46        1   \n",
       "...             ...   ...     ...           ...      ...   \n",
       "50643175008   14398  42.0       0           271        1   \n",
       "50760028833   20394  41.0       1            84        1   \n",
       "50760028833   25191  41.0       1            84        1   \n",
       "50113016960   13794  44.0       0           151        1   \n",
       "50116954288   12980  45.0       1           183        0   \n",
       "\n",
       "             transaction_date_1/10/2014  transaction_date_1/10/2015  \\\n",
       "member_id                                                             \n",
       "30132990738                           0                           0   \n",
       "30388108493                           0                           0   \n",
       "30275342052                           0                           0   \n",
       "30176024140                           0                           0   \n",
       "30176024140                           0                           0   \n",
       "...                                 ...                         ...   \n",
       "50643175008                           0                           0   \n",
       "50760028833                           0                           0   \n",
       "50760028833                           0                           0   \n",
       "50113016960                           0                           0   \n",
       "50116954288                           0                           0   \n",
       "\n",
       "             transaction_date_1/10/2016  transaction_date_1/10/2017  \\\n",
       "member_id                                                             \n",
       "30132990738                           0                           0   \n",
       "30388108493                           0                           0   \n",
       "30275342052                           0                           0   \n",
       "30176024140                           0                           0   \n",
       "30176024140                           0                           0   \n",
       "...                                 ...                         ...   \n",
       "50643175008                           0                           0   \n",
       "50760028833                           0                           0   \n",
       "50760028833                           0                           0   \n",
       "50113016960                           0                           0   \n",
       "50116954288                           0                           0   \n",
       "\n",
       "             transaction_date_1/10/2018  ...  registration_date_9/8/2018  \\\n",
       "member_id                                ...                               \n",
       "30132990738                           0  ...                           0   \n",
       "30388108493                           0  ...                           0   \n",
       "30275342052                           0  ...                           0   \n",
       "30176024140                           0  ...                           0   \n",
       "30176024140                           0  ...                           0   \n",
       "...                                 ...  ...                         ...   \n",
       "50643175008                           0  ...                           0   \n",
       "50760028833                           0  ...                           0   \n",
       "50760028833                           0  ...                           0   \n",
       "50113016960                           0  ...                           0   \n",
       "50116954288                           0  ...                           0   \n",
       "\n",
       "             registration_date_9/9/2014  registration_date_9/9/2015  \\\n",
       "member_id                                                             \n",
       "30132990738                           0                           0   \n",
       "30388108493                           0                           0   \n",
       "30275342052                           0                           0   \n",
       "30176024140                           0                           0   \n",
       "30176024140                           0                           0   \n",
       "...                                 ...                         ...   \n",
       "50643175008                           0                           0   \n",
       "50760028833                           0                           0   \n",
       "50760028833                           0                           0   \n",
       "50113016960                           0                           0   \n",
       "50116954288                           0                           0   \n",
       "\n",
       "             registration_date_9/9/2016  registration_date_9/9/2017  \\\n",
       "member_id                                                             \n",
       "30132990738                           0                           0   \n",
       "30388108493                           0                           0   \n",
       "30275342052                           0                           0   \n",
       "30176024140                           0                           0   \n",
       "30176024140                           0                           0   \n",
       "...                                 ...                         ...   \n",
       "50643175008                           0                           0   \n",
       "50760028833                           0                           0   \n",
       "50760028833                           0                           0   \n",
       "50113016960                           0                           0   \n",
       "50116954288                           0                           0   \n",
       "\n",
       "             Member_level_Gold  Member_level_Register  Member_level_Silver  \\\n",
       "member_id                                                                    \n",
       "30132990738                  0                      0                    1   \n",
       "30388108493                  0                      0                    1   \n",
       "30275342052                  0                      0                    1   \n",
       "30176024140                  0                      1                    0   \n",
       "30176024140                  0                      1                    0   \n",
       "...                        ...                    ...                  ...   \n",
       "50643175008                  1                      0                    0   \n",
       "50760028833                  0                      0                    0   \n",
       "50760028833                  0                      0                    0   \n",
       "50113016960                  0                      0                    1   \n",
       "50116954288                  0                      0                    1   \n",
       "\n",
       "             Marriage_Y  Have_child_Y  \n",
       "member_id                              \n",
       "30132990738           1             1  \n",
       "30388108493           1             1  \n",
       "30275342052           0             0  \n",
       "30176024140           0             0  \n",
       "30176024140           0             0  \n",
       "...                 ...           ...  \n",
       "50643175008           1             1  \n",
       "50760028833           1             1  \n",
       "50760028833           1             1  \n",
       "50113016960           1             1  \n",
       "50116954288           1             1  \n",
       "\n",
       "[22376 rows x 3353 columns]"
      ]
     },
     "execution_count": 453,
     "metadata": {},
     "output_type": "execute_result"
    }
   ],
   "source": [
    "# 将gender的男女转换成男为0，女为1\n",
    "from sklearn.preprocessing import LabelEncoder\n",
    "label_le = LabelEncoder()\n",
    "data['gender'] = label_le.fit_transform(data['gender'])\n",
    "data['CHANNEL'] = label_le.fit_transform(data['CHANNEL'])\n",
    "sony = pd.get_dummies(data,drop_first=True)\n",
    "sony\n"
   ]
  },
  {
   "cell_type": "code",
   "execution_count": 454,
   "id": "prospective-forest",
   "metadata": {
    "scrolled": false
   },
   "outputs": [
    {
     "name": "stdout",
     "output_type": "stream",
     "text": [
      "<class 'pandas.core.frame.DataFrame'>\n",
      "Int64Index: 22376 entries, 30132990738 to 50116954288\n",
      "Columns: 3353 entries, amount to Have_child_Y\n",
      "dtypes: float64(1), int32(1), int64(3), uint8(3348)\n",
      "memory usage: 73.0 MB\n"
     ]
    }
   ],
   "source": [
    "sony.info()"
   ]
  },
  {
   "cell_type": "markdown",
   "id": "hispanic-teens",
   "metadata": {},
   "source": [
    "## EDA和数据探索"
   ]
  },
  {
   "cell_type": "markdown",
   "id": "split-begin",
   "metadata": {},
   "source": [
    "关键列"
   ]
  },
  {
   "cell_type": "code",
   "execution_count": 455,
   "id": "virtual-saturday",
   "metadata": {},
   "outputs": [
    {
     "data": {
      "text/plain": [
       "count     22376.000000\n",
       "mean      27250.442528\n",
       "std       70511.931648\n",
       "min         149.000000\n",
       "25%        8999.000000\n",
       "50%       14360.000000\n",
       "75%       19999.000000\n",
       "max      529999.000000\n",
       "Name: amount, dtype: float64"
      ]
     },
     "execution_count": 455,
     "metadata": {},
     "output_type": "execute_result"
    }
   ],
   "source": [
    "sony['amount'].describe()\n",
    "# 消费额最高529999，最低149，分别是TV和游戏CD的单价"
   ]
  },
  {
   "cell_type": "code",
   "execution_count": 456,
   "id": "separate-turtle",
   "metadata": {},
   "outputs": [
    {
     "name": "stderr",
     "output_type": "stream",
     "text": [
      "C:\\Users\\GaoYi\\anaconda\\envs\\sony\\lib\\site-packages\\seaborn\\distributions.py:2557: FutureWarning: `distplot` is a deprecated function and will be removed in a future version. Please adapt your code to use either `displot` (a figure-level function with similar flexibility) or `histplot` (an axes-level function for histograms).\n",
      "  warnings.warn(msg, FutureWarning)\n"
     ]
    },
    {
     "data": {
      "text/plain": [
       "<AxesSubplot:xlabel='amount', ylabel='Density'>"
      ]
     },
     "execution_count": 456,
     "metadata": {},
     "output_type": "execute_result"
    },
    {
     "data": {
      "image/png": "[encoded data removed]",
      "text/plain": [
       "<Figure size 432x288 with 1 Axes>"
      ]
     },
     "metadata": {
      "needs_background": "light"
     },
     "output_type": "display_data"
    }
   ],
   "source": [
    "sns.distplot(sony['amount'])"
   ]
  },
  {
   "cell_type": "code",
   "execution_count": 457,
   "id": "large-milan",
   "metadata": {
    "scrolled": false
   },
   "outputs": [
    {
     "data": {
      "text/plain": [
       "<AxesSubplot:xlabel='age', ylabel='amount'>"
      ]
     },
     "execution_count": 457,
     "metadata": {},
     "output_type": "execute_result"
    },
    {
     "data": {
      "image/png": "[encoded data removed]",
      "text/plain": [
       "<Figure size 432x288 with 1 Axes>"
      ]
     },
     "metadata": {
      "needs_background": "light"
     },
     "output_type": "display_data"
    }
   ],
   "source": [
    "sns.lineplot(x='age',y='amount',data=sony)\n",
    "# 不太明显"
   ]
  },
  {
   "cell_type": "code",
   "execution_count": 458,
   "id": "desirable-bidder",
   "metadata": {
    "scrolled": true
   },
   "outputs": [
    {
     "data": {
      "text/plain": [
       "<AxesSubplot:ylabel='age'>"
      ]
     },
     "execution_count": 458,
     "metadata": {},
     "output_type": "execute_result"
    },
    {
     "data": {
      "image/png": "[encoded data removed]",
      "text/plain": [
       "<Figure size 432x288 with 1 Axes>"
      ]
     },
     "metadata": {
      "needs_background": "light"
     },
     "output_type": "display_data"
    }
   ],
   "source": [
    "sns.boxplot(y='age', data=sony)"
   ]
  },
  {
   "cell_type": "code",
   "execution_count": 459,
   "id": "beginning-retreat",
   "metadata": {},
   "outputs": [
    {
     "data": {
      "text/plain": [
       "1    13843\n",
       "0     8533\n",
       "Name: gender, dtype: int64"
      ]
     },
     "execution_count": 459,
     "metadata": {},
     "output_type": "execute_result"
    }
   ],
   "source": [
    "sony['gender'].value_counts(0)"
   ]
  },
  {
   "cell_type": "code",
   "execution_count": 460,
   "id": "adjacent-reset",
   "metadata": {
    "scrolled": true
   },
   "outputs": [
    {
     "data": {
      "text/plain": [
       "Text(0.5, 1.0, '用户的男女比例')"
      ]
     },
     "execution_count": 460,
     "metadata": {},
     "output_type": "execute_result"
    },
    {
     "data": {
      "image/png": "[encoded data removed]",
      "text/plain": [
       "<Figure size 432x288 with 1 Axes>"
      ]
     },
     "metadata": {
      "needs_background": "light"
     },
     "output_type": "display_data"
    }
   ],
   "source": [
    "sns.countplot(x='gender',data=sony, order=sony['gender'].value_counts().sort_values(ascending=False).index)\n",
    "plt.title('用户的男女比例')"
   ]
  },
  {
   "cell_type": "code",
   "execution_count": 461,
   "id": "german-outdoors",
   "metadata": {
    "scrolled": false
   },
   "outputs": [
    {
     "data": {
      "text/plain": [
       "<AxesSubplot:xlabel='gender', ylabel='amount'>"
      ]
     },
     "execution_count": 461,
     "metadata": {},
     "output_type": "execute_result"
    },
    {
     "data": {
      "image/png": "[encoded data removed]",
      "text/plain": [
       "<Figure size 432x288 with 1 Axes>"
      ]
     },
     "metadata": {
      "needs_background": "light"
     },
     "output_type": "display_data"
    }
   ],
   "source": [
    "sns.barplot(x='gender',y='amount',data =sony)\n",
    "# 虽然女性用户比男性多，但是女性用户贡献的销售额比男性少，可能男性在购买的产品单价上比较高\n",
    "# 女性用户的购买潜力比较大"
   ]
  },
  {
   "cell_type": "code",
   "execution_count": 464,
   "id": "italian-cooperation",
   "metadata": {},
   "outputs": [
    {
     "data": {
      "text/plain": [
       "<AxesSubplot:xlabel='CHANNEL', ylabel='amount'>"
      ]
     },
     "execution_count": 464,
     "metadata": {},
     "output_type": "execute_result"
    },
    {
     "data": {
      "image/png": "[encoded data removed]",
      "text/plain": [
       "<Figure size 432x288 with 1 Axes>"
      ]
     },
     "metadata": {
      "needs_background": "light"
     },
     "output_type": "display_data"
    }
   ],
   "source": [
    "sns.barplot(x='CHANNEL',y='amount',data =sony)"
   ]
  },
  {
   "cell_type": "markdown",
   "id": "federal-leone",
   "metadata": {},
   "source": [
    "## 构建模型"
   ]
  },
  {
   "cell_type": "code",
   "execution_count": 66,
   "id": "theoretical-transfer",
   "metadata": {
    "scrolled": true
   },
   "outputs": [
    {
     "data": {
      "text/html": [
       "<div>\n",
       "<style scoped>\n",
       "    .dataframe tbody tr th:only-of-type {\n",
       "        vertical-align: middle;\n",
       "    }\n",
       "\n",
       "    .dataframe tbody tr th {\n",
       "        vertical-align: top;\n",
       "    }\n",
       "\n",
       "    .dataframe thead th {\n",
       "        text-align: right;\n",
       "    }\n",
       "</style>\n",
       "<table border=\"1\" class=\"dataframe\">\n",
       "  <thead>\n",
       "    <tr style=\"text-align: right;\">\n",
       "      <th></th>\n",
       "      <th>amount</th>\n",
       "    </tr>\n",
       "  </thead>\n",
       "  <tbody>\n",
       "    <tr>\n",
       "      <th>amount</th>\n",
       "      <td>1.000000</td>\n",
       "    </tr>\n",
       "    <tr>\n",
       "      <th>Member_level</th>\n",
       "      <td>0.007660</td>\n",
       "    </tr>\n",
       "    <tr>\n",
       "      <th>registration_date</th>\n",
       "      <td>0.004295</td>\n",
       "    </tr>\n",
       "    <tr>\n",
       "      <th>city</th>\n",
       "      <td>0.003207</td>\n",
       "    </tr>\n",
       "    <tr>\n",
       "      <th>gender</th>\n",
       "      <td>0.002783</td>\n",
       "    </tr>\n",
       "    <tr>\n",
       "      <th>Member_value</th>\n",
       "      <td>0.001307</td>\n",
       "    </tr>\n",
       "    <tr>\n",
       "      <th>channel</th>\n",
       "      <td>-0.001316</td>\n",
       "    </tr>\n",
       "    <tr>\n",
       "      <th>Marriage</th>\n",
       "      <td>-0.001925</td>\n",
       "    </tr>\n",
       "    <tr>\n",
       "      <th>age</th>\n",
       "      <td>-0.004071</td>\n",
       "    </tr>\n",
       "    <tr>\n",
       "      <th>transaction_date</th>\n",
       "      <td>-0.004647</td>\n",
       "    </tr>\n",
       "    <tr>\n",
       "      <th>Have_child</th>\n",
       "      <td>-0.006093</td>\n",
       "    </tr>\n",
       "  </tbody>\n",
       "</table>\n",
       "</div>"
      ],
      "text/plain": [
       "                     amount\n",
       "amount             1.000000\n",
       "Member_level       0.007660\n",
       "registration_date  0.004295\n",
       "city               0.003207\n",
       "gender             0.002783\n",
       "Member_value       0.001307\n",
       "channel           -0.001316\n",
       "Marriage          -0.001925\n",
       "age               -0.004071\n",
       "transaction_date  -0.004647\n",
       "Have_child        -0.006093"
      ]
     },
     "execution_count": 66,
     "metadata": {},
     "output_type": "execute_result"
    }
   ],
   "source": [
    "sony.corr()[['amount']].sort_values('amount',ascending=False)"
   ]
  },
  {
   "cell_type": "code",
   "execution_count": 67,
   "id": "residential-farmer",
   "metadata": {},
   "outputs": [
    {
     "data": {
      "text/plain": [
       "<AxesSubplot:>"
      ]
     },
     "execution_count": 67,
     "metadata": {},
     "output_type": "execute_result"
    },
    {
     "data": {
      "image/png": "[encoded data removed]",
      "text/plain": [
       "<Figure size 432x288 with 2 Axes>"
      ]
     },
     "metadata": {
      "needs_background": "light"
     },
     "output_type": "display_data"
    }
   ],
   "source": [
    "#热力图\n",
    "q=['amount','Member_level','registration_date']\n",
    "sns.heatmap(sony[q].corr())"
   ]
  },
  {
   "cell_type": "markdown",
   "id": "exact-bankruptcy",
   "metadata": {},
   "source": [
    "从上可以看出，所选变量和因变量之间相关关系很弱，下面选择Member_level、registration_date、gender、Member_value、Have_child作为自变量，建立多元线性回归模型\n",
    "因变量为amount"
   ]
  },
  {
   "cell_type": "code",
   "execution_count": 68,
   "id": "divine-cattle",
   "metadata": {},
   "outputs": [
    {
     "data": {
      "text/plain": [
       "array([ 4.29639174e+02,  7.87174849e-01,  3.18144296e+02, -1.61025440e+00,\n",
       "       -8.45124881e+02])"
      ]
     },
     "execution_count": 68,
     "metadata": {},
     "output_type": "execute_result"
    }
   ],
   "source": [
    "model=LinearRegression()\n",
    "y = sony['amount']\n",
    "x = sony[['Member_level','registration_date','gender','Member_value','Have_child']]\n",
    "model.fit(x,y) #模型拟合\n",
    "# 查看拟合系数估计值\n",
    "model.coef_"
   ]
  },
  {
   "cell_type": "code",
   "execution_count": 69,
   "id": "quiet-scheduling",
   "metadata": {},
   "outputs": [
    {
     "data": {
      "text/plain": [
       "0.00012554417452903532"
      ]
     },
     "execution_count": 69,
     "metadata": {},
     "output_type": "execute_result"
    }
   ],
   "source": [
    "# 查看截距项，获取标准线性回归结果\n",
    "# 模型评分\n",
    "score = model.score(x,y) \n",
    "score"
   ]
  },
  {
   "cell_type": "code",
   "execution_count": 70,
   "id": "frozen-lyric",
   "metadata": {},
   "outputs": [
    {
     "data": {
      "text/plain": [
       "array([28060.6622331 , 28060.6622331 , 28987.65602707, ...,\n",
       "       26434.35303801, 26904.43897056, 27463.09699466])"
      ]
     },
     "execution_count": 70,
     "metadata": {},
     "output_type": "execute_result"
    }
   ],
   "source": [
    "# 计算y的预测值\n",
    "dictons = model.predict(x)\n",
    "dictons"
   ]
  },
  {
   "cell_type": "code",
   "execution_count": 71,
   "id": "complimentary-knitting",
   "metadata": {},
   "outputs": [],
   "source": [
    "error = dictons - y"
   ]
  },
  {
   "cell_type": "code",
   "execution_count": 72,
   "id": "practical-martin",
   "metadata": {},
   "outputs": [],
   "source": [
    "# 计算均方误差\n",
    "rme = (error**2).mean()**0.5"
   ]
  },
  {
   "cell_type": "code",
   "execution_count": 73,
   "id": "advance-catering",
   "metadata": {},
   "outputs": [],
   "source": [
    "# 计算平均绝对误差\n",
    "mae = abs(error).mean()"
   ]
  },
  {
   "cell_type": "code",
   "execution_count": 74,
   "id": "interested-spell",
   "metadata": {},
   "outputs": [
    {
     "name": "stdout",
     "output_type": "stream",
     "text": [
      "70505.92979390868\n",
      "24953.49088020358\n"
     ]
    }
   ],
   "source": [
    "print(rme)\n",
    "print(mae)"
   ]
  },
  {
   "cell_type": "code",
   "execution_count": 75,
   "id": "falling-former",
   "metadata": {
    "scrolled": true
   },
   "outputs": [
    {
     "name": "stdout",
     "output_type": "stream",
     "text": [
      "                            OLS Regression Results                            \n",
      "==============================================================================\n",
      "Dep. Variable:                      y   R-squared:                       0.000\n",
      "Model:                            OLS   Adj. R-squared:                 -0.000\n",
      "Method:                 Least Squares   F-statistic:                    0.5618\n",
      "Date:                Mon, 22 Mar 2021   Prob (F-statistic):              0.729\n",
      "Time:                        18:27:16   Log-Likelihood:            -2.8154e+05\n",
      "No. Observations:               22376   AIC:                         5.631e+05\n",
      "Df Residuals:                   22370   BIC:                         5.631e+05\n",
      "Df Model:                           5                                         \n",
      "Covariance Type:            nonrobust                                         \n",
      "==============================================================================\n",
      "                 coef    std err          t      P>|t|      [0.025      0.975]\n",
      "------------------------------------------------------------------------------\n",
      "Intercept   2.644e+04   1644.985     16.074      0.000    2.32e+04    2.97e+04\n",
      "x[0]         429.6392    396.295      1.084      0.278    -347.127    1206.405\n",
      "x[1]           0.7872      0.975      0.807      0.420      -1.124       2.699\n",
      "x[2]         318.1443    986.609      0.322      0.747   -1615.678    2251.966\n",
      "x[3]          -1.6103      6.603     -0.244      0.807     -14.553      11.332\n",
      "x[4]        -845.1249    950.162     -0.889      0.374   -2707.509    1017.259\n",
      "==============================================================================\n",
      "Omnibus:                    26253.037   Durbin-Watson:                   1.978\n",
      "Prob(Omnibus):                  0.000   Jarque-Bera (JB):          1893853.091\n",
      "Skew:                           6.508   Prob(JB):                         0.00\n",
      "Kurtosis:                      46.150   Cond. No.                     3.62e+03\n",
      "==============================================================================\n",
      "\n",
      "Notes:\n",
      "[1] Standard Errors assume that the covariance matrix of the errors is correctly specified.\n",
      "[2] The condition number is large, 3.62e+03. This might indicate that there are\n",
      "strong multicollinearity or other numerical problems.\n"
     ]
    }
   ],
   "source": [
    "from statsmodels.formula.api import ols\n",
    "model_ols=ols('y~x',sony).fit()\n",
    "print(model_ols.summary())"
   ]
  },
  {
   "cell_type": "markdown",
   "id": "cubic-railway",
   "metadata": {},
   "source": [
    "结果：amount=2.644e+04+429.6392*ember_level+0.7872*registration_date+318.1443*gender-1.6103*Member_value-845.1249*Have_child"
   ]
  },
  {
   "cell_type": "markdown",
   "id": "periodic-joint",
   "metadata": {},
   "source": []
  },
  {
   "cell_type": "markdown",
   "id": "liquid-marina",
   "metadata": {},
   "source": [
    "三、营销建议\n",
    "\n",
    "1、男性用户在索尼发生购买行为的可能性更高；这可能是男性用户对数码电子产品类的需求比女性高。对应的索尼可能着重于男性新用户的挖掘和老用户的留存；\n",
    "\n",
    "2、女性用户对销售额的贡献度不如男性，应该着力挖掘女性用户的购买潜力。\n",
    "\n",
    "3、有小孩的家庭相较于其他家庭，在索尼的购买金额会降低，有可能是家庭的负担变重，用户的消费能力有所下降，索尼可能对有小孩的家庭提出刺激消费的营销活动；\n",
    "\n",
    "4、老用户是索尼消费军的主力，索尼应该做好老用户的留存，对会员等级高的用户提供积分兑换等奖励机制。"
   ]
  }
 ],
 "metadata": {
  "kernelspec": {
   "display_name": "Python 3",
   "language": "python",
   "name": "python3"
  },
  "language_info": {
   "codemirror_mode": {
    "name": "ipython",
    "version": 3
   },
   "file_extension": ".py",
   "mimetype": "text/x-python",
   "name": "python",
   "nbconvert_exporter": "python",
   "pygments_lexer": "ipython3",
   "version": "3.6.13"
  }
 },
 "nbformat": 4,
 "nbformat_minor": 5
}
